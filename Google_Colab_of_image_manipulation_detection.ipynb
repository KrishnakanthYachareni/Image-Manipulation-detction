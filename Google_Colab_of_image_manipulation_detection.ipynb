{
  "nbformat": 4,
  "nbformat_minor": 0,
  "metadata": {
    "colab": {
      "name": "Copy_of_image_manipulation_detection.ipynb",
      "provenance": [],
      "collapsed_sections": []
    },
    "kernelspec": {
      "display_name": "Python 3",
      "name": "python3"
    },
    "accelerator": "GPU"
  },
  "cells": [
    {
      "cell_type": "code",
      "metadata": {
        "id": "BIP0LviQZiFh"
      },
      "source": [
        "import cv2\n",
        "import os\n",
        "from PIL import Image\n",
        "import numpy as np\n",
        "%matplotlib inline \n",
        "import matplotlib.pyplot as plt\n",
        "import imageio\n",
        "from imageio import imread\n",
        "\n",
        "import tensorflow as tf\n",
        "from tensorflow.keras.preprocessing.image import ImageDataGenerator\n",
        "from tensorflow.keras.preprocessing import image\n",
        "\n",
        "\n",
        "from tensorflow.keras.models import Sequential\n",
        "from tensorflow.keras.layers import Dense, Dropout, Activation, Flatten, Conv2D, MaxPooling2D\n",
        "from keras.layers import BatchNormalization\n",
        "from sklearn.model_selection import train_test_split"
      ],
      "execution_count": null,
      "outputs": []
    },
    {
      "cell_type": "code",
      "metadata": {
        "colab": {
          "base_uri": "https://localhost:8080/",
          "height": 543
        },
        "id": "csmlU4KJZ2oe",
        "outputId": "6e34929c-398b-409c-b70b-f08251ada102"
      },
      "source": [
        "from google.colab import drive\n",
        "drive.mount('/content/gdrive')"
      ],
      "execution_count": null,
      "outputs": [
        {
          "output_type": "error",
          "ename": "KeyboardInterrupt",
          "evalue": "ignored",
          "traceback": [
            "\u001b[0;31m---------------------------------------------------------------------------\u001b[0m",
            "\u001b[0;31mKeyboardInterrupt\u001b[0m                         Traceback (most recent call last)",
            "\u001b[0;32m/usr/local/lib/python3.7/dist-packages/ipykernel/kernelbase.py\u001b[0m in \u001b[0;36m_input_request\u001b[0;34m(self, prompt, ident, parent, password)\u001b[0m\n\u001b[1;32m    728\u001b[0m             \u001b[0;32mtry\u001b[0m\u001b[0;34m:\u001b[0m\u001b[0;34m\u001b[0m\u001b[0;34m\u001b[0m\u001b[0m\n\u001b[0;32m--> 729\u001b[0;31m                 \u001b[0mident\u001b[0m\u001b[0;34m,\u001b[0m \u001b[0mreply\u001b[0m \u001b[0;34m=\u001b[0m \u001b[0mself\u001b[0m\u001b[0;34m.\u001b[0m\u001b[0msession\u001b[0m\u001b[0;34m.\u001b[0m\u001b[0mrecv\u001b[0m\u001b[0;34m(\u001b[0m\u001b[0mself\u001b[0m\u001b[0;34m.\u001b[0m\u001b[0mstdin_socket\u001b[0m\u001b[0;34m,\u001b[0m \u001b[0;36m0\u001b[0m\u001b[0;34m)\u001b[0m\u001b[0;34m\u001b[0m\u001b[0;34m\u001b[0m\u001b[0m\n\u001b[0m\u001b[1;32m    730\u001b[0m             \u001b[0;32mexcept\u001b[0m \u001b[0mException\u001b[0m\u001b[0;34m:\u001b[0m\u001b[0;34m\u001b[0m\u001b[0;34m\u001b[0m\u001b[0m\n",
            "\u001b[0;32m/usr/local/lib/python3.7/dist-packages/jupyter_client/session.py\u001b[0m in \u001b[0;36mrecv\u001b[0;34m(self, socket, mode, content, copy)\u001b[0m\n\u001b[1;32m    802\u001b[0m         \u001b[0;32mtry\u001b[0m\u001b[0;34m:\u001b[0m\u001b[0;34m\u001b[0m\u001b[0;34m\u001b[0m\u001b[0m\n\u001b[0;32m--> 803\u001b[0;31m             \u001b[0mmsg_list\u001b[0m \u001b[0;34m=\u001b[0m \u001b[0msocket\u001b[0m\u001b[0;34m.\u001b[0m\u001b[0mrecv_multipart\u001b[0m\u001b[0;34m(\u001b[0m\u001b[0mmode\u001b[0m\u001b[0;34m,\u001b[0m \u001b[0mcopy\u001b[0m\u001b[0;34m=\u001b[0m\u001b[0mcopy\u001b[0m\u001b[0;34m)\u001b[0m\u001b[0;34m\u001b[0m\u001b[0;34m\u001b[0m\u001b[0m\n\u001b[0m\u001b[1;32m    804\u001b[0m         \u001b[0;32mexcept\u001b[0m \u001b[0mzmq\u001b[0m\u001b[0;34m.\u001b[0m\u001b[0mZMQError\u001b[0m \u001b[0;32mas\u001b[0m \u001b[0me\u001b[0m\u001b[0;34m:\u001b[0m\u001b[0;34m\u001b[0m\u001b[0;34m\u001b[0m\u001b[0m\n",
            "\u001b[0;32m/usr/local/lib/python3.7/dist-packages/zmq/sugar/socket.py\u001b[0m in \u001b[0;36mrecv_multipart\u001b[0;34m(self, flags, copy, track)\u001b[0m\n\u001b[1;32m    624\u001b[0m         \"\"\"\n\u001b[0;32m--> 625\u001b[0;31m         \u001b[0mparts\u001b[0m \u001b[0;34m=\u001b[0m \u001b[0;34m[\u001b[0m\u001b[0mself\u001b[0m\u001b[0;34m.\u001b[0m\u001b[0mrecv\u001b[0m\u001b[0;34m(\u001b[0m\u001b[0mflags\u001b[0m\u001b[0;34m,\u001b[0m \u001b[0mcopy\u001b[0m\u001b[0;34m=\u001b[0m\u001b[0mcopy\u001b[0m\u001b[0;34m,\u001b[0m \u001b[0mtrack\u001b[0m\u001b[0;34m=\u001b[0m\u001b[0mtrack\u001b[0m\u001b[0;34m)\u001b[0m\u001b[0;34m]\u001b[0m\u001b[0;34m\u001b[0m\u001b[0;34m\u001b[0m\u001b[0m\n\u001b[0m\u001b[1;32m    626\u001b[0m         \u001b[0;31m# have first part already, only loop while more to receive\u001b[0m\u001b[0;34m\u001b[0m\u001b[0;34m\u001b[0m\u001b[0;34m\u001b[0m\u001b[0m\n",
            "\u001b[0;32mzmq/backend/cython/socket.pyx\u001b[0m in \u001b[0;36mzmq.backend.cython.socket.Socket.recv\u001b[0;34m()\u001b[0m\n",
            "\u001b[0;32mzmq/backend/cython/socket.pyx\u001b[0m in \u001b[0;36mzmq.backend.cython.socket.Socket.recv\u001b[0;34m()\u001b[0m\n",
            "\u001b[0;32mzmq/backend/cython/socket.pyx\u001b[0m in \u001b[0;36mzmq.backend.cython.socket._recv_copy\u001b[0;34m()\u001b[0m\n",
            "\u001b[0;32m/usr/local/lib/python3.7/dist-packages/zmq/backend/cython/checkrc.pxd\u001b[0m in \u001b[0;36mzmq.backend.cython.checkrc._check_rc\u001b[0;34m()\u001b[0m\n",
            "\u001b[0;31mKeyboardInterrupt\u001b[0m: ",
            "\nDuring handling of the above exception, another exception occurred:\n",
            "\u001b[0;31mKeyboardInterrupt\u001b[0m                         Traceback (most recent call last)",
            "\u001b[0;32m<ipython-input-1-4996ee3d8d09>\u001b[0m in \u001b[0;36m<module>\u001b[0;34m()\u001b[0m\n\u001b[1;32m      1\u001b[0m \u001b[0;32mfrom\u001b[0m \u001b[0mgoogle\u001b[0m\u001b[0;34m.\u001b[0m\u001b[0mcolab\u001b[0m \u001b[0;32mimport\u001b[0m \u001b[0mdrive\u001b[0m\u001b[0;34m\u001b[0m\u001b[0;34m\u001b[0m\u001b[0m\n\u001b[0;32m----> 2\u001b[0;31m \u001b[0mdrive\u001b[0m\u001b[0;34m.\u001b[0m\u001b[0mmount\u001b[0m\u001b[0;34m(\u001b[0m\u001b[0;34m'/content/gdrive'\u001b[0m\u001b[0;34m)\u001b[0m\u001b[0;34m\u001b[0m\u001b[0;34m\u001b[0m\u001b[0m\n\u001b[0m",
            "\u001b[0;32m/usr/local/lib/python3.7/dist-packages/google/colab/drive.py\u001b[0m in \u001b[0;36mmount\u001b[0;34m(mountpoint, force_remount, timeout_ms, use_metadata_server)\u001b[0m\n\u001b[1;32m    111\u001b[0m       \u001b[0mtimeout_ms\u001b[0m\u001b[0;34m=\u001b[0m\u001b[0mtimeout_ms\u001b[0m\u001b[0;34m,\u001b[0m\u001b[0;34m\u001b[0m\u001b[0;34m\u001b[0m\u001b[0m\n\u001b[1;32m    112\u001b[0m       \u001b[0muse_metadata_server\u001b[0m\u001b[0;34m=\u001b[0m\u001b[0muse_metadata_server\u001b[0m\u001b[0;34m,\u001b[0m\u001b[0;34m\u001b[0m\u001b[0;34m\u001b[0m\u001b[0m\n\u001b[0;32m--> 113\u001b[0;31m       ephemeral=ephemeral)\n\u001b[0m\u001b[1;32m    114\u001b[0m \u001b[0;34m\u001b[0m\u001b[0m\n\u001b[1;32m    115\u001b[0m \u001b[0;34m\u001b[0m\u001b[0m\n",
            "\u001b[0;32m/usr/local/lib/python3.7/dist-packages/google/colab/drive.py\u001b[0m in \u001b[0;36m_mount\u001b[0;34m(mountpoint, force_remount, timeout_ms, use_metadata_server, ephemeral)\u001b[0m\n\u001b[1;32m    290\u001b[0m       \u001b[0;32mwith\u001b[0m \u001b[0m_output\u001b[0m\u001b[0;34m.\u001b[0m\u001b[0muse_tags\u001b[0m\u001b[0;34m(\u001b[0m\u001b[0;34m'dfs-auth-dance'\u001b[0m\u001b[0;34m)\u001b[0m\u001b[0;34m:\u001b[0m\u001b[0;34m\u001b[0m\u001b[0;34m\u001b[0m\u001b[0m\n\u001b[1;32m    291\u001b[0m         \u001b[0;32mwith\u001b[0m \u001b[0mopen\u001b[0m\u001b[0;34m(\u001b[0m\u001b[0mfifo\u001b[0m\u001b[0;34m,\u001b[0m \u001b[0;34m'w'\u001b[0m\u001b[0;34m)\u001b[0m \u001b[0;32mas\u001b[0m \u001b[0mfifo_file\u001b[0m\u001b[0;34m:\u001b[0m\u001b[0;34m\u001b[0m\u001b[0;34m\u001b[0m\u001b[0m\n\u001b[0;32m--> 292\u001b[0;31m           \u001b[0mfifo_file\u001b[0m\u001b[0;34m.\u001b[0m\u001b[0mwrite\u001b[0m\u001b[0;34m(\u001b[0m\u001b[0mget_code\u001b[0m\u001b[0;34m(\u001b[0m\u001b[0mauth_prompt\u001b[0m\u001b[0;34m)\u001b[0m \u001b[0;34m+\u001b[0m \u001b[0;34m'\\n'\u001b[0m\u001b[0;34m)\u001b[0m\u001b[0;34m\u001b[0m\u001b[0;34m\u001b[0m\u001b[0m\n\u001b[0m\u001b[1;32m    293\u001b[0m       \u001b[0mwrote_to_fifo\u001b[0m \u001b[0;34m=\u001b[0m \u001b[0;32mTrue\u001b[0m\u001b[0;34m\u001b[0m\u001b[0;34m\u001b[0m\u001b[0m\n\u001b[1;32m    294\u001b[0m     \u001b[0;32melif\u001b[0m \u001b[0mcase\u001b[0m \u001b[0;34m==\u001b[0m \u001b[0;36m5\u001b[0m\u001b[0;34m:\u001b[0m\u001b[0;34m\u001b[0m\u001b[0;34m\u001b[0m\u001b[0m\n",
            "\u001b[0;32m/usr/local/lib/python3.7/dist-packages/ipykernel/kernelbase.py\u001b[0m in \u001b[0;36mraw_input\u001b[0;34m(self, prompt)\u001b[0m\n\u001b[1;32m    702\u001b[0m             \u001b[0mself\u001b[0m\u001b[0;34m.\u001b[0m\u001b[0m_parent_ident\u001b[0m\u001b[0;34m,\u001b[0m\u001b[0;34m\u001b[0m\u001b[0;34m\u001b[0m\u001b[0m\n\u001b[1;32m    703\u001b[0m             \u001b[0mself\u001b[0m\u001b[0;34m.\u001b[0m\u001b[0m_parent_header\u001b[0m\u001b[0;34m,\u001b[0m\u001b[0;34m\u001b[0m\u001b[0;34m\u001b[0m\u001b[0m\n\u001b[0;32m--> 704\u001b[0;31m             \u001b[0mpassword\u001b[0m\u001b[0;34m=\u001b[0m\u001b[0;32mFalse\u001b[0m\u001b[0;34m,\u001b[0m\u001b[0;34m\u001b[0m\u001b[0;34m\u001b[0m\u001b[0m\n\u001b[0m\u001b[1;32m    705\u001b[0m         )\n\u001b[1;32m    706\u001b[0m \u001b[0;34m\u001b[0m\u001b[0m\n",
            "\u001b[0;32m/usr/local/lib/python3.7/dist-packages/ipykernel/kernelbase.py\u001b[0m in \u001b[0;36m_input_request\u001b[0;34m(self, prompt, ident, parent, password)\u001b[0m\n\u001b[1;32m    732\u001b[0m             \u001b[0;32mexcept\u001b[0m \u001b[0mKeyboardInterrupt\u001b[0m\u001b[0;34m:\u001b[0m\u001b[0;34m\u001b[0m\u001b[0;34m\u001b[0m\u001b[0m\n\u001b[1;32m    733\u001b[0m                 \u001b[0;31m# re-raise KeyboardInterrupt, to truncate traceback\u001b[0m\u001b[0;34m\u001b[0m\u001b[0;34m\u001b[0m\u001b[0;34m\u001b[0m\u001b[0m\n\u001b[0;32m--> 734\u001b[0;31m                 \u001b[0;32mraise\u001b[0m \u001b[0mKeyboardInterrupt\u001b[0m\u001b[0;34m\u001b[0m\u001b[0;34m\u001b[0m\u001b[0m\n\u001b[0m\u001b[1;32m    735\u001b[0m             \u001b[0;32melse\u001b[0m\u001b[0;34m:\u001b[0m\u001b[0;34m\u001b[0m\u001b[0;34m\u001b[0m\u001b[0m\n\u001b[1;32m    736\u001b[0m                 \u001b[0;32mbreak\u001b[0m\u001b[0;34m\u001b[0m\u001b[0;34m\u001b[0m\u001b[0m\n",
            "\u001b[0;31mKeyboardInterrupt\u001b[0m: "
          ]
        }
      ]
    },
    {
      "cell_type": "code",
      "metadata": {
        "id": "GGxRyvJyZjYH"
      },
      "source": [
        ""
      ],
      "execution_count": null,
      "outputs": []
    },
    {
      "cell_type": "code",
      "metadata": {
        "id": "mRayMbS_bPZ_"
      },
      "source": [
        "# def crop_images(folder,dest_folder):\n",
        "#   count=1\n",
        "#   for filename in os.listdir(folder):\n",
        "#     #filename='F:/M.Tech Project/Basic Projects/Image Manipulation Detection/BOSSbase_1.01_4/test/8.jpg'\n",
        "#     print(filename)\n",
        "#     image = cv2.imread(folder+filename,cv2.IMREAD_UNCHANGED)\n",
        "#     height, width = image.shape[:2]\n",
        "#     #print(image.shape)\n",
        "\n",
        "#     #TOP LEFT\n",
        "#     start_row, start_col = int(0), int(0)\n",
        "#     end_row, end_col = int(height * .5), int(width * .5)\n",
        "#     cropped_top = image[start_row:end_row , start_col:end_col]\n",
        "#     #print(start_row, end_row) \n",
        "#     #print(start_col, end_col)\n",
        "#     cv2.imwrite(dest_folder+str(count)+'.jpg',cropped_top)\n",
        "#     count+=1\n",
        "\n",
        "#     #TOP RIGHT\n",
        "#     start_row, start_col = int(0), int(width * .5)\n",
        "#     end_row, end_col = int(height * .5), int(width)\n",
        "#     cropped_top = image[start_row:end_row , start_col:end_col]\n",
        "#     #print(start_row, end_row) \n",
        "#     #print(start_col, end_col)\n",
        "#     cv2.imwrite(dest_folder+str(count)+'.jpg',cropped_top)\n",
        "#     count+=1\n",
        "\n",
        "#     #BOTTOM LEFT\n",
        "#     start_row, start_col = int(height * .5), int(0)\n",
        "#     end_row, end_col = int(height), int(width *.5)\n",
        "#     cropped_top = image[start_row:end_row , start_col:end_col]\n",
        "#     #print(start_row, end_row) \n",
        "#     #print(start_col, end_col)\n",
        "#     cv2.imwrite(dest_folder+str(count)+'.jpg',cropped_top)\n",
        "#     count+=1\n",
        "\n",
        "#     #BOTTOM RIGHT\n",
        "#     start_row, start_col = int(height * .5), int(width * .5)\n",
        "#     end_row, end_col = int(height), int(width)\n",
        "#     cropped_top = image[start_row:end_row , start_col:end_col]\n",
        "#     #print(start_row, end_row) \n",
        "#     #print(start_col, end_col)\n",
        "#     cv2.imwrite(dest_folder+str(count)+'.jpg',cropped_top)\n",
        "#     count+=1"
      ],
      "execution_count": null,
      "outputs": []
    },
    {
      "cell_type": "code",
      "metadata": {
        "id": "nBRei8J0bitS"
      },
      "source": [
        "# test_folder='gdrive/MyDrive/Colab Notebooks/test/'\n",
        "# original_folder='gdrive/MyDrive/Colab Notebooks/original/'\n",
        "# crop_folder='gdrive/MyDrive/Colab Notebooks/total/crop/'\n",
        "# awgn_folder='gdrive/MyDrive/Colab Notebooks/total/awgn/'\n",
        "# median_folder='gdrive/MyDrive/Colab Notebooks/total/median/'\n",
        "# gaussian_folder='gdrive/MyDrive/Colab Notebooks/total/gaussian/'\n",
        "# resample_folder='gdrive/MyDrive/Colab Notebooks/total/resample/'\n",
        "# total_folder='gdrive/MyDrive/Colab Notebooks/total/'\n",
        "# output_folder='gdrive/MyDrive/Colab Notebooks/split/'"
      ],
      "execution_count": null,
      "outputs": []
    },
    {
      "cell_type": "code",
      "metadata": {
        "id": "PdR7hqwjpkx9"
      },
      "source": [
        "# crop_images(original_folder, crop_folder)"
      ],
      "execution_count": null,
      "outputs": []
    },
    {
      "cell_type": "code",
      "metadata": {
        "id": "NfQGTVrvr3uf"
      },
      "source": [
        "# print(len(os.listdir(original_folder)))\n",
        "# print(len(os.listdir(crop_folder)))\n",
        "# print(len(os.listdir(median_folder)))\n",
        "# print(len(os.listdir(gaussian_folder)))\n",
        "# print(len(os.listdir(awgn_folder)))\n",
        "# print(len(os.listdir(resample_folder)))\n",
        "# print(len(os.listdir(output_folder)))"
      ],
      "execution_count": null,
      "outputs": []
    },
    {
      "cell_type": "code",
      "metadata": {
        "id": "UU-uwanCcll4"
      },
      "source": [
        "# def median_blur(folder, dest_folder):\n",
        "#   count=20001\n",
        "#   for filename in os.listdir(folder):\n",
        "#     print(filename)\n",
        "#     img=cv2.imread(folder+filename,cv2.IMREAD_UNCHANGED)\n",
        "#     img_median=cv2.medianBlur(img,5)\n",
        "#     cv2.imwrite(dest_folder+str(count)+'.jpg',img_median)\n",
        "#     count+=1"
      ],
      "execution_count": null,
      "outputs": []
    },
    {
      "cell_type": "code",
      "metadata": {
        "id": "tGg9IRSWi2Tb"
      },
      "source": [
        "# median_blur(crop_folder, median_folder)"
      ],
      "execution_count": null,
      "outputs": []
    },
    {
      "cell_type": "code",
      "metadata": {
        "id": "3KypxckOi2P2"
      },
      "source": [
        "# def gaussian_blur(folder, dest_folder):\n",
        "#   count=40001\n",
        "#   for filename in os.listdir(folder):\n",
        "#     print(filename)\n",
        "#     img=cv2.imread(folder+filename,cv2.IMREAD_UNCHANGED)\n",
        "#     img_gaussian = cv2.GaussianBlur(img,(5,5),1.1)\n",
        "#     cv2.imwrite(dest_folder+str(count)+'.jpg',img_gaussian)\n",
        "#     count+=1"
      ],
      "execution_count": null,
      "outputs": []
    },
    {
      "cell_type": "code",
      "metadata": {
        "id": "pHSyc7Sni2OC"
      },
      "source": [
        "# gaussian_blur(crop_folder,gaussian_folder)"
      ],
      "execution_count": null,
      "outputs": []
    },
    {
      "cell_type": "code",
      "metadata": {
        "id": "ki5NEZjoi2Kl"
      },
      "source": [
        "# #Resampling\n",
        "# def resampling(folder, dest_folder):\n",
        "#   count=60001\n",
        "#   for filename in os.listdir(folder):\n",
        "#     print(filename)\n",
        "#     img = cv2.imread(folder+filename, cv2.IMREAD_UNCHANGED)\n",
        "#     scale_percent = 150\n",
        "#     width = int(img.shape[1] * scale_percent / 100)\n",
        "#     height = int(img.shape[0] * scale_percent / 100)\n",
        "#     dsize = (width, height)\n",
        "#     output = cv2.resize(img, dsize)\n",
        "#     cv2.imwrite(dest_folder+str(count)+'.jpg',output)\n",
        "#     count+=1"
      ],
      "execution_count": null,
      "outputs": []
    },
    {
      "cell_type": "code",
      "metadata": {
        "id": "mJrqv2Ybi2I7"
      },
      "source": [
        "# resampling(crop_folder,resample_folder)"
      ],
      "execution_count": null,
      "outputs": []
    },
    {
      "cell_type": "code",
      "metadata": {
        "id": "wo8fpaBDi2FC"
      },
      "source": [
        "# def awgn(folder, dest_folder):\n",
        "#   count=80001\n",
        "#   for filename in os.listdir(folder):\n",
        "#     print(filename)\n",
        "#     img = cv2.imread(folder+filename, cv2.IMREAD_UNCHANGED)\n",
        "#     print(img.size)\n",
        "#     gauss = np.random.normal(0,2,img.size)\n",
        "#     gauss = gauss.reshape(img.shape[0],img.shape[1]).astype('uint8')\n",
        "#     # Add the Gaussian noise to the image\n",
        "#     img_gauss = cv2.add(img,gauss)\n",
        "#     cv2.imwrite(dest_folder+str(count)+'.jpg',img_gauss)\n",
        "#     count+=1"
      ],
      "execution_count": null,
      "outputs": []
    },
    {
      "cell_type": "code",
      "metadata": {
        "id": "S3WA1NMai2D7"
      },
      "source": [
        "# awgn(crop_folder, awgn_folder)"
      ],
      "execution_count": null,
      "outputs": []
    },
    {
      "cell_type": "code",
      "metadata": {
        "id": "cWe1ULDfi1_z"
      },
      "source": [
        "# import splitfolders"
      ],
      "execution_count": null,
      "outputs": []
    },
    {
      "cell_type": "code",
      "metadata": {
        "id": "WfQ5UdkUi186"
      },
      "source": [
        "# splitfolders.ratio(total_folder, output_folder,seed=10, ratio=(.6,.2,.2))"
      ],
      "execution_count": null,
      "outputs": []
    },
    {
      "cell_type": "code",
      "metadata": {
        "id": "gbsGobK5i1wo"
      },
      "source": [
        "# !pip install split-folders"
      ],
      "execution_count": null,
      "outputs": []
    },
    {
      "cell_type": "code",
      "metadata": {
        "id": "0luShdp8f0SU"
      },
      "source": [
        "# !pip install split-folders tqdm"
      ],
      "execution_count": null,
      "outputs": []
    },
    {
      "cell_type": "code",
      "metadata": {
        "id": "jsYCs6IcQN6d"
      },
      "source": [
        "# len(os.listdir(output_folder))"
      ],
      "execution_count": null,
      "outputs": []
    },
    {
      "cell_type": "code",
      "metadata": {
        "id": "SkAOKEK24cJY"
      },
      "source": [
        "# !unzip 'gdrive/MyDrive/processed.zip' -d 'gdrive/MyDrive/Colab Notebooks/splitfolders'"
      ],
      "execution_count": null,
      "outputs": []
    },
    {
      "cell_type": "code",
      "metadata": {
        "id": "Xzk04SJhS7vo"
      },
      "source": [
        "# len(os.listdir('gdrive/MyDrive/Colab Notebooks/splitfolders/train/median'))"
      ],
      "execution_count": null,
      "outputs": []
    },
    {
      "cell_type": "code",
      "metadata": {
        "id": "qRq7aUW4o2aZ"
      },
      "source": [
        "train=ImageDataGenerator(rescale=1/255)\n",
        "validation=ImageDataGenerator(rescale=1/255)"
      ],
      "execution_count": null,
      "outputs": []
    },
    {
      "cell_type": "code",
      "metadata": {
        "id": "wBd89RIsAg1z",
        "colab": {
          "base_uri": "https://localhost:8080/"
        },
        "outputId": "c8e301ab-1ee5-41c7-e88c-973904f97702"
      },
      "source": [
        "train_dataset= train.flow_from_directory('gdrive/MyDrive/Colab Notebooks/splitfolders/train/',\n",
        "                                        target_size=(256,256),\n",
        "                                        batch_size=100,\n",
        "                                        class_mode='categorical',\n",
        "                                        color_mode='grayscale')\n"
      ],
      "execution_count": null,
      "outputs": [
        {
          "output_type": "stream",
          "text": [
            "Found 120000 images belonging to 5 classes.\n"
          ],
          "name": "stdout"
        }
      ]
    },
    {
      "cell_type": "code",
      "metadata": {
        "colab": {
          "base_uri": "https://localhost:8080/"
        },
        "id": "Q4ytg8J-eVw0",
        "outputId": "d5a30892-11fe-4095-e4f9-272bd1f3210b"
      },
      "source": [
        "\n",
        "validation_dataset= validation.flow_from_directory('gdrive/MyDrive/Colab Notebooks/splitfolders/val/',\n",
        "                                        target_size=(256,256),\n",
        "                                        batch_size=100,\n",
        "                                        class_mode='categorical',\n",
        "                                        color_mode='grayscale')"
      ],
      "execution_count": null,
      "outputs": [
        {
          "output_type": "stream",
          "text": [
            "Found 40000 images belonging to 5 classes.\n"
          ],
          "name": "stdout"
        }
      ]
    },
    {
      "cell_type": "code",
      "metadata": {
        "colab": {
          "base_uri": "https://localhost:8080/",
          "height": 350
        },
        "id": "tqqLf4aKeVkp",
        "outputId": "b442f811-fb5d-4909-ae33-210ac9aadd5b"
      },
      "source": [
        "test_dataset=train.flow_from_directory('gdrive/MyDrive/Colab Notebooks/splitfolders/test/',\n",
        "                                        target_size=(256,256),\n",
        "                                        batch_size=100,\n",
        "                                        class_mode='categorical',\n",
        "                                        color_mode='grayscale')"
      ],
      "execution_count": null,
      "outputs": [
        {
          "output_type": "error",
          "ename": "KeyboardInterrupt",
          "evalue": "ignored",
          "traceback": [
            "\u001b[0;31m---------------------------------------------------------------------------\u001b[0m",
            "\u001b[0;31mKeyboardInterrupt\u001b[0m                         Traceback (most recent call last)",
            "\u001b[0;32m<ipython-input-6-9a0863af2561>\u001b[0m in \u001b[0;36m<module>\u001b[0;34m()\u001b[0m\n\u001b[1;32m      3\u001b[0m                                         \u001b[0mbatch_size\u001b[0m\u001b[0;34m=\u001b[0m\u001b[0;36m100\u001b[0m\u001b[0;34m,\u001b[0m\u001b[0;34m\u001b[0m\u001b[0;34m\u001b[0m\u001b[0m\n\u001b[1;32m      4\u001b[0m                                         \u001b[0mclass_mode\u001b[0m\u001b[0;34m=\u001b[0m\u001b[0;34m'categorical'\u001b[0m\u001b[0;34m,\u001b[0m\u001b[0;34m\u001b[0m\u001b[0;34m\u001b[0m\u001b[0m\n\u001b[0;32m----> 5\u001b[0;31m                                         color_mode='grayscale')\n\u001b[0m",
            "\u001b[0;32m/usr/local/lib/python3.7/dist-packages/tensorflow/python/keras/preprocessing/image.py\u001b[0m in \u001b[0;36mflow_from_directory\u001b[0;34m(self, directory, target_size, color_mode, classes, class_mode, batch_size, shuffle, seed, save_to_dir, save_prefix, save_format, follow_links, subset, interpolation)\u001b[0m\n\u001b[1;32m    956\u001b[0m         \u001b[0mfollow_links\u001b[0m\u001b[0;34m=\u001b[0m\u001b[0mfollow_links\u001b[0m\u001b[0;34m,\u001b[0m\u001b[0;34m\u001b[0m\u001b[0;34m\u001b[0m\u001b[0m\n\u001b[1;32m    957\u001b[0m         \u001b[0msubset\u001b[0m\u001b[0;34m=\u001b[0m\u001b[0msubset\u001b[0m\u001b[0;34m,\u001b[0m\u001b[0;34m\u001b[0m\u001b[0;34m\u001b[0m\u001b[0m\n\u001b[0;32m--> 958\u001b[0;31m         interpolation=interpolation)\n\u001b[0m\u001b[1;32m    959\u001b[0m \u001b[0;34m\u001b[0m\u001b[0m\n\u001b[1;32m    960\u001b[0m   def flow_from_dataframe(self,\n",
            "\u001b[0;32m/usr/local/lib/python3.7/dist-packages/tensorflow/python/keras/preprocessing/image.py\u001b[0m in \u001b[0;36m__init__\u001b[0;34m(self, directory, image_data_generator, target_size, color_mode, classes, class_mode, batch_size, shuffle, seed, data_format, save_to_dir, save_prefix, save_format, follow_links, subset, interpolation, dtype)\u001b[0m\n\u001b[1;32m    394\u001b[0m         \u001b[0msubset\u001b[0m\u001b[0;34m=\u001b[0m\u001b[0msubset\u001b[0m\u001b[0;34m,\u001b[0m\u001b[0;34m\u001b[0m\u001b[0;34m\u001b[0m\u001b[0m\n\u001b[1;32m    395\u001b[0m         \u001b[0minterpolation\u001b[0m\u001b[0;34m=\u001b[0m\u001b[0minterpolation\u001b[0m\u001b[0;34m,\u001b[0m\u001b[0;34m\u001b[0m\u001b[0;34m\u001b[0m\u001b[0m\n\u001b[0;32m--> 396\u001b[0;31m         **kwargs)\n\u001b[0m\u001b[1;32m    397\u001b[0m \u001b[0;34m\u001b[0m\u001b[0m\n\u001b[1;32m    398\u001b[0m \u001b[0;34m\u001b[0m\u001b[0m\n",
            "\u001b[0;32m/usr/local/lib/python3.7/dist-packages/keras_preprocessing/image/directory_iterator.py\u001b[0m in \u001b[0;36m__init__\u001b[0;34m(self, directory, image_data_generator, target_size, color_mode, classes, class_mode, batch_size, shuffle, seed, data_format, save_to_dir, save_prefix, save_format, follow_links, subset, interpolation, dtype)\u001b[0m\n\u001b[1;32m    133\u001b[0m         \u001b[0mclasses_list\u001b[0m \u001b[0;34m=\u001b[0m \u001b[0;34m[\u001b[0m\u001b[0;34m]\u001b[0m\u001b[0;34m\u001b[0m\u001b[0;34m\u001b[0m\u001b[0m\n\u001b[1;32m    134\u001b[0m         \u001b[0;32mfor\u001b[0m \u001b[0mres\u001b[0m \u001b[0;32min\u001b[0m \u001b[0mresults\u001b[0m\u001b[0;34m:\u001b[0m\u001b[0;34m\u001b[0m\u001b[0;34m\u001b[0m\u001b[0m\n\u001b[0;32m--> 135\u001b[0;31m             \u001b[0mclasses\u001b[0m\u001b[0;34m,\u001b[0m \u001b[0mfilenames\u001b[0m \u001b[0;34m=\u001b[0m \u001b[0mres\u001b[0m\u001b[0;34m.\u001b[0m\u001b[0mget\u001b[0m\u001b[0;34m(\u001b[0m\u001b[0;34m)\u001b[0m\u001b[0;34m\u001b[0m\u001b[0;34m\u001b[0m\u001b[0m\n\u001b[0m\u001b[1;32m    136\u001b[0m             \u001b[0mclasses_list\u001b[0m\u001b[0;34m.\u001b[0m\u001b[0mappend\u001b[0m\u001b[0;34m(\u001b[0m\u001b[0mclasses\u001b[0m\u001b[0;34m)\u001b[0m\u001b[0;34m\u001b[0m\u001b[0;34m\u001b[0m\u001b[0m\n\u001b[1;32m    137\u001b[0m             \u001b[0mself\u001b[0m\u001b[0;34m.\u001b[0m\u001b[0mfilenames\u001b[0m \u001b[0;34m+=\u001b[0m \u001b[0mfilenames\u001b[0m\u001b[0;34m\u001b[0m\u001b[0;34m\u001b[0m\u001b[0m\n",
            "\u001b[0;32m/usr/lib/python3.7/multiprocessing/pool.py\u001b[0m in \u001b[0;36mget\u001b[0;34m(self, timeout)\u001b[0m\n\u001b[1;32m    649\u001b[0m \u001b[0;34m\u001b[0m\u001b[0m\n\u001b[1;32m    650\u001b[0m     \u001b[0;32mdef\u001b[0m \u001b[0mget\u001b[0m\u001b[0;34m(\u001b[0m\u001b[0mself\u001b[0m\u001b[0;34m,\u001b[0m \u001b[0mtimeout\u001b[0m\u001b[0;34m=\u001b[0m\u001b[0;32mNone\u001b[0m\u001b[0;34m)\u001b[0m\u001b[0;34m:\u001b[0m\u001b[0;34m\u001b[0m\u001b[0;34m\u001b[0m\u001b[0m\n\u001b[0;32m--> 651\u001b[0;31m         \u001b[0mself\u001b[0m\u001b[0;34m.\u001b[0m\u001b[0mwait\u001b[0m\u001b[0;34m(\u001b[0m\u001b[0mtimeout\u001b[0m\u001b[0;34m)\u001b[0m\u001b[0;34m\u001b[0m\u001b[0;34m\u001b[0m\u001b[0m\n\u001b[0m\u001b[1;32m    652\u001b[0m         \u001b[0;32mif\u001b[0m \u001b[0;32mnot\u001b[0m \u001b[0mself\u001b[0m\u001b[0;34m.\u001b[0m\u001b[0mready\u001b[0m\u001b[0;34m(\u001b[0m\u001b[0;34m)\u001b[0m\u001b[0;34m:\u001b[0m\u001b[0;34m\u001b[0m\u001b[0;34m\u001b[0m\u001b[0m\n\u001b[1;32m    653\u001b[0m             \u001b[0;32mraise\u001b[0m \u001b[0mTimeoutError\u001b[0m\u001b[0;34m\u001b[0m\u001b[0;34m\u001b[0m\u001b[0m\n",
            "\u001b[0;32m/usr/lib/python3.7/multiprocessing/pool.py\u001b[0m in \u001b[0;36mwait\u001b[0;34m(self, timeout)\u001b[0m\n\u001b[1;32m    646\u001b[0m \u001b[0;34m\u001b[0m\u001b[0m\n\u001b[1;32m    647\u001b[0m     \u001b[0;32mdef\u001b[0m \u001b[0mwait\u001b[0m\u001b[0;34m(\u001b[0m\u001b[0mself\u001b[0m\u001b[0;34m,\u001b[0m \u001b[0mtimeout\u001b[0m\u001b[0;34m=\u001b[0m\u001b[0;32mNone\u001b[0m\u001b[0;34m)\u001b[0m\u001b[0;34m:\u001b[0m\u001b[0;34m\u001b[0m\u001b[0;34m\u001b[0m\u001b[0m\n\u001b[0;32m--> 648\u001b[0;31m         \u001b[0mself\u001b[0m\u001b[0;34m.\u001b[0m\u001b[0m_event\u001b[0m\u001b[0;34m.\u001b[0m\u001b[0mwait\u001b[0m\u001b[0;34m(\u001b[0m\u001b[0mtimeout\u001b[0m\u001b[0;34m)\u001b[0m\u001b[0;34m\u001b[0m\u001b[0;34m\u001b[0m\u001b[0m\n\u001b[0m\u001b[1;32m    649\u001b[0m \u001b[0;34m\u001b[0m\u001b[0m\n\u001b[1;32m    650\u001b[0m     \u001b[0;32mdef\u001b[0m \u001b[0mget\u001b[0m\u001b[0;34m(\u001b[0m\u001b[0mself\u001b[0m\u001b[0;34m,\u001b[0m \u001b[0mtimeout\u001b[0m\u001b[0;34m=\u001b[0m\u001b[0;32mNone\u001b[0m\u001b[0;34m)\u001b[0m\u001b[0;34m:\u001b[0m\u001b[0;34m\u001b[0m\u001b[0;34m\u001b[0m\u001b[0m\n",
            "\u001b[0;32m/usr/lib/python3.7/threading.py\u001b[0m in \u001b[0;36mwait\u001b[0;34m(self, timeout)\u001b[0m\n\u001b[1;32m    550\u001b[0m             \u001b[0msignaled\u001b[0m \u001b[0;34m=\u001b[0m \u001b[0mself\u001b[0m\u001b[0;34m.\u001b[0m\u001b[0m_flag\u001b[0m\u001b[0;34m\u001b[0m\u001b[0;34m\u001b[0m\u001b[0m\n\u001b[1;32m    551\u001b[0m             \u001b[0;32mif\u001b[0m \u001b[0;32mnot\u001b[0m \u001b[0msignaled\u001b[0m\u001b[0;34m:\u001b[0m\u001b[0;34m\u001b[0m\u001b[0;34m\u001b[0m\u001b[0m\n\u001b[0;32m--> 552\u001b[0;31m                 \u001b[0msignaled\u001b[0m \u001b[0;34m=\u001b[0m \u001b[0mself\u001b[0m\u001b[0;34m.\u001b[0m\u001b[0m_cond\u001b[0m\u001b[0;34m.\u001b[0m\u001b[0mwait\u001b[0m\u001b[0;34m(\u001b[0m\u001b[0mtimeout\u001b[0m\u001b[0;34m)\u001b[0m\u001b[0;34m\u001b[0m\u001b[0;34m\u001b[0m\u001b[0m\n\u001b[0m\u001b[1;32m    553\u001b[0m             \u001b[0;32mreturn\u001b[0m \u001b[0msignaled\u001b[0m\u001b[0;34m\u001b[0m\u001b[0;34m\u001b[0m\u001b[0m\n\u001b[1;32m    554\u001b[0m \u001b[0;34m\u001b[0m\u001b[0m\n",
            "\u001b[0;32m/usr/lib/python3.7/threading.py\u001b[0m in \u001b[0;36mwait\u001b[0;34m(self, timeout)\u001b[0m\n\u001b[1;32m    294\u001b[0m         \u001b[0;32mtry\u001b[0m\u001b[0;34m:\u001b[0m    \u001b[0;31m# restore state no matter what (e.g., KeyboardInterrupt)\u001b[0m\u001b[0;34m\u001b[0m\u001b[0;34m\u001b[0m\u001b[0m\n\u001b[1;32m    295\u001b[0m             \u001b[0;32mif\u001b[0m \u001b[0mtimeout\u001b[0m \u001b[0;32mis\u001b[0m \u001b[0;32mNone\u001b[0m\u001b[0;34m:\u001b[0m\u001b[0;34m\u001b[0m\u001b[0;34m\u001b[0m\u001b[0m\n\u001b[0;32m--> 296\u001b[0;31m                 \u001b[0mwaiter\u001b[0m\u001b[0;34m.\u001b[0m\u001b[0macquire\u001b[0m\u001b[0;34m(\u001b[0m\u001b[0;34m)\u001b[0m\u001b[0;34m\u001b[0m\u001b[0;34m\u001b[0m\u001b[0m\n\u001b[0m\u001b[1;32m    297\u001b[0m                 \u001b[0mgotit\u001b[0m \u001b[0;34m=\u001b[0m \u001b[0;32mTrue\u001b[0m\u001b[0;34m\u001b[0m\u001b[0;34m\u001b[0m\u001b[0m\n\u001b[1;32m    298\u001b[0m             \u001b[0;32melse\u001b[0m\u001b[0;34m:\u001b[0m\u001b[0;34m\u001b[0m\u001b[0;34m\u001b[0m\u001b[0m\n",
            "\u001b[0;31mKeyboardInterrupt\u001b[0m: "
          ]
        }
      ]
    },
    {
      "cell_type": "code",
      "metadata": {
        "colab": {
          "base_uri": "https://localhost:8080/"
        },
        "id": "PCZt6AkheI85",
        "outputId": "2f95f90f-b8d8-4bc3-94d9-c473fe021fb3"
      },
      "source": [
        "train_dataset.class_indices"
      ],
      "execution_count": null,
      "outputs": [
        {
          "output_type": "execute_result",
          "data": {
            "text/plain": [
              "{'awgn': 0, 'crop': 1, 'gaussian': 2, 'median': 3, 'resample': 4}"
            ]
          },
          "metadata": {
            "tags": []
          },
          "execution_count": 9
        }
      ]
    },
    {
      "cell_type": "code",
      "metadata": {
        "colab": {
          "base_uri": "https://localhost:8080/"
        },
        "id": "VA8z-kq3eO_j",
        "outputId": "eda4b526-38c8-4e80-aad6-0581eb3c578c"
      },
      "source": [
        "train_dataset[0][0]"
      ],
      "execution_count": null,
      "outputs": [
        {
          "output_type": "execute_result",
          "data": {
            "text/plain": [
              "array([[[[0.59607846],\n",
              "         [0.5882353 ],\n",
              "         [0.58431375],\n",
              "         ...,\n",
              "         [0.3372549 ],\n",
              "         [0.31764707],\n",
              "         [0.29411766]],\n",
              "\n",
              "        [[0.61960787],\n",
              "         [0.6156863 ],\n",
              "         [0.60784316],\n",
              "         ...,\n",
              "         [0.3019608 ],\n",
              "         [0.2901961 ],\n",
              "         [0.27450982]],\n",
              "\n",
              "        [[0.63529414],\n",
              "         [0.6313726 ],\n",
              "         [0.627451  ],\n",
              "         ...,\n",
              "         [0.2784314 ],\n",
              "         [0.27450982],\n",
              "         [0.25882354]],\n",
              "\n",
              "        ...,\n",
              "\n",
              "        [[0.44705886],\n",
              "         [0.43921572],\n",
              "         [0.43137258],\n",
              "         ...,\n",
              "         [0.09803922],\n",
              "         [0.10588236],\n",
              "         [0.1137255 ]],\n",
              "\n",
              "        [[0.454902  ],\n",
              "         [0.44705886],\n",
              "         [0.43529415],\n",
              "         ...,\n",
              "         [0.1137255 ],\n",
              "         [0.12156864],\n",
              "         [0.1254902 ]],\n",
              "\n",
              "        [[0.454902  ],\n",
              "         [0.45098042],\n",
              "         [0.43921572],\n",
              "         ...,\n",
              "         [0.1254902 ],\n",
              "         [0.1254902 ],\n",
              "         [0.12941177]]],\n",
              "\n",
              "\n",
              "       [[[0.07058824],\n",
              "         [0.07058824],\n",
              "         [0.07450981],\n",
              "         ...,\n",
              "         [0.0627451 ],\n",
              "         [0.06666667],\n",
              "         [0.07058824]],\n",
              "\n",
              "        [[0.06666667],\n",
              "         [0.06666667],\n",
              "         [0.07058824],\n",
              "         ...,\n",
              "         [0.05882353],\n",
              "         [0.0627451 ],\n",
              "         [0.06666667]],\n",
              "\n",
              "        [[0.06666667],\n",
              "         [0.06666667],\n",
              "         [0.06666667],\n",
              "         ...,\n",
              "         [0.05882353],\n",
              "         [0.0627451 ],\n",
              "         [0.07058824]],\n",
              "\n",
              "        ...,\n",
              "\n",
              "        [[0.0627451 ],\n",
              "         [0.0627451 ],\n",
              "         [0.0627451 ],\n",
              "         ...,\n",
              "         [0.0627451 ],\n",
              "         [0.0627451 ],\n",
              "         [0.05882353]],\n",
              "\n",
              "        [[0.05882353],\n",
              "         [0.0627451 ],\n",
              "         [0.06666667],\n",
              "         ...,\n",
              "         [0.0627451 ],\n",
              "         [0.0627451 ],\n",
              "         [0.0627451 ]],\n",
              "\n",
              "        [[0.05490196],\n",
              "         [0.0627451 ],\n",
              "         [0.06666667],\n",
              "         ...,\n",
              "         [0.0627451 ],\n",
              "         [0.0627451 ],\n",
              "         [0.06666667]]],\n",
              "\n",
              "\n",
              "       [[[0.20000002],\n",
              "         [0.15686275],\n",
              "         [0.16862746],\n",
              "         ...,\n",
              "         [0.58431375],\n",
              "         [0.5803922 ],\n",
              "         [0.5764706 ]],\n",
              "\n",
              "        [[0.30588236],\n",
              "         [0.21176472],\n",
              "         [0.18039216],\n",
              "         ...,\n",
              "         [0.5882353 ],\n",
              "         [0.5803922 ],\n",
              "         [0.5764706 ]],\n",
              "\n",
              "        [[0.427451  ],\n",
              "         [0.3137255 ],\n",
              "         [0.227451  ],\n",
              "         ...,\n",
              "         [0.5882353 ],\n",
              "         [0.58431375],\n",
              "         [0.5764706 ]],\n",
              "\n",
              "        ...,\n",
              "\n",
              "        [[0.5764706 ],\n",
              "         [0.5764706 ],\n",
              "         [0.5803922 ],\n",
              "         ...,\n",
              "         [0.5254902 ],\n",
              "         [0.5294118 ],\n",
              "         [0.5294118 ]],\n",
              "\n",
              "        [[0.5882353 ],\n",
              "         [0.5921569 ],\n",
              "         [0.5921569 ],\n",
              "         ...,\n",
              "         [0.5176471 ],\n",
              "         [0.52156866],\n",
              "         [0.52156866]],\n",
              "\n",
              "        [[0.5882353 ],\n",
              "         [0.5921569 ],\n",
              "         [0.5921569 ],\n",
              "         ...,\n",
              "         [0.50980395],\n",
              "         [0.5137255 ],\n",
              "         [0.5137255 ]]],\n",
              "\n",
              "\n",
              "       ...,\n",
              "\n",
              "\n",
              "       [[[0.09803922],\n",
              "         [0.09803922],\n",
              "         [0.10196079],\n",
              "         ...,\n",
              "         [0.33333334],\n",
              "         [0.3372549 ],\n",
              "         [0.3529412 ]],\n",
              "\n",
              "        [[0.10588236],\n",
              "         [0.1137255 ],\n",
              "         [0.1254902 ],\n",
              "         ...,\n",
              "         [0.34509805],\n",
              "         [0.3372549 ],\n",
              "         [0.34509805]],\n",
              "\n",
              "        [[0.12941177],\n",
              "         [0.14901961],\n",
              "         [0.16862746],\n",
              "         ...,\n",
              "         [0.35686275],\n",
              "         [0.34509805],\n",
              "         [0.34509805]],\n",
              "\n",
              "        ...,\n",
              "\n",
              "        [[0.1254902 ],\n",
              "         [0.14901961],\n",
              "         [0.15294118],\n",
              "         ...,\n",
              "         [0.40784317],\n",
              "         [0.3921569 ],\n",
              "         [0.39607847]],\n",
              "\n",
              "        [[0.15294118],\n",
              "         [0.18431373],\n",
              "         [0.17254902],\n",
              "         ...,\n",
              "         [0.45098042],\n",
              "         [0.427451  ],\n",
              "         [0.427451  ]],\n",
              "\n",
              "        [[0.227451  ],\n",
              "         [0.24313727],\n",
              "         [0.18431373],\n",
              "         ...,\n",
              "         [0.48235297],\n",
              "         [0.454902  ],\n",
              "         [0.44705886]]],\n",
              "\n",
              "\n",
              "       [[[0.01960784],\n",
              "         [0.01960784],\n",
              "         [0.01960784],\n",
              "         ...,\n",
              "         [0.19607845],\n",
              "         [0.24313727],\n",
              "         [0.27058825]],\n",
              "\n",
              "        [[0.01960784],\n",
              "         [0.01960784],\n",
              "         [0.01960784],\n",
              "         ...,\n",
              "         [0.13725491],\n",
              "         [0.16078432],\n",
              "         [0.16862746]],\n",
              "\n",
              "        [[0.01960784],\n",
              "         [0.01960784],\n",
              "         [0.01960784],\n",
              "         ...,\n",
              "         [0.1137255 ],\n",
              "         [0.10980393],\n",
              "         [0.09411766]],\n",
              "\n",
              "        ...,\n",
              "\n",
              "        [[0.0509804 ],\n",
              "         [0.05490196],\n",
              "         [0.05490196],\n",
              "         ...,\n",
              "         [0.02745098],\n",
              "         [0.04313726],\n",
              "         [0.05882353]],\n",
              "\n",
              "        [[0.04313726],\n",
              "         [0.03921569],\n",
              "         [0.03529412],\n",
              "         ...,\n",
              "         [0.05490196],\n",
              "         [0.0627451 ],\n",
              "         [0.06666667]],\n",
              "\n",
              "        [[0.03921569],\n",
              "         [0.03921569],\n",
              "         [0.03921569],\n",
              "         ...,\n",
              "         [0.08627451],\n",
              "         [0.07843138],\n",
              "         [0.0627451 ]]],\n",
              "\n",
              "\n",
              "       [[[0.09411766],\n",
              "         [0.09803922],\n",
              "         [0.09803922],\n",
              "         ...,\n",
              "         [0.00784314],\n",
              "         [0.00784314],\n",
              "         [0.00784314]],\n",
              "\n",
              "        [[0.09803922],\n",
              "         [0.09803922],\n",
              "         [0.09803922],\n",
              "         ...,\n",
              "         [0.00784314],\n",
              "         [0.00784314],\n",
              "         [0.00784314]],\n",
              "\n",
              "        [[0.09411766],\n",
              "         [0.09803922],\n",
              "         [0.09803922],\n",
              "         ...,\n",
              "         [0.01176471],\n",
              "         [0.01176471],\n",
              "         [0.01176471]],\n",
              "\n",
              "        ...,\n",
              "\n",
              "        [[0.06666667],\n",
              "         [0.06666667],\n",
              "         [0.06666667],\n",
              "         ...,\n",
              "         [0.03921569],\n",
              "         [0.03921569],\n",
              "         [0.03921569]],\n",
              "\n",
              "        [[0.05882353],\n",
              "         [0.05882353],\n",
              "         [0.05882353],\n",
              "         ...,\n",
              "         [0.04313726],\n",
              "         [0.04313726],\n",
              "         [0.04313726]],\n",
              "\n",
              "        [[0.04705883],\n",
              "         [0.04705883],\n",
              "         [0.04705883],\n",
              "         ...,\n",
              "         [0.04705883],\n",
              "         [0.04705883],\n",
              "         [0.04705883]]]], dtype=float32)"
            ]
          },
          "metadata": {
            "tags": []
          },
          "execution_count": 27
        }
      ]
    },
    {
      "cell_type": "code",
      "metadata": {
        "id": "0oighUzQArqS"
      },
      "source": [
        "def my_filter(shape, dtype=None):\n",
        "    f=np.array([[-1, 2, -2, 2, -1],\n",
        "                 [2, -6, 8, -6, 2],\n",
        "                 [-2, 8, -12, 8, -2],\n",
        "                 [2, -6, 8, -6, 2],\n",
        "                 [-1, 2, -2, 2, 1],\n",
        "                ])\n",
        "    k=1/12\n",
        "    f=f*k\n",
        "    f=f.reshape((5,5,1,1))\n",
        "    print(f.shape,shape)\n",
        "    assert f.shape == shape\n",
        "    return tf.keras.backend.variable(f, dtype='float32')"
      ],
      "execution_count": null,
      "outputs": []
    },
    {
      "cell_type": "code",
      "metadata": {
        "id": "y9jI8Iwt2m9m"
      },
      "source": [
        "from keras import backend as K\n",
        "from keras.engine.topology import Layer, InputSpec\n",
        "\n",
        "class LocalResponseNormalization(Layer):\n",
        "\n",
        "  def __init__(self, n=5, alpha=0.0005, beta=0.75, k=2, **kwargs):\n",
        "\n",
        "    self.n = n\n",
        "    self.alpha = alpha\n",
        "    self.beta = beta\n",
        "    self.k = k\n",
        "    super(LocalResponseNormalization, self).__init__(**kwargs)\n",
        "\n",
        "  def build(self, input_shape):\n",
        "\n",
        "    self.shape = input_shape\n",
        "    super(LocalResponseNormalization, self).build(input_shape)\n",
        "\n",
        "  def call(self, x, mask=None):\n",
        "    if K.image_data_format == \"th\":\n",
        "      _, f, r, c = self.shape\n",
        "    else:\n",
        "      _, r, c, f = self.shape\n",
        "      squared = K.square(x)\n",
        "      pooled = K.pool2d(squared, (5, 5), strides=(1, 1),\n",
        "      padding=\"same\", pool_mode=\"avg\")\n",
        "      if K.image_data_format == \"th\":\n",
        "        summed = K.sum(pooled, axis=1, keepdims=True)\n",
        "        averaged = self.alpha * K.repeat_elements(summed, f, axis=1)\n",
        "      else:\n",
        "        summed = K.sum(pooled, axis=3, keepdims=True)\n",
        "        averaged = self.alpha * K.repeat_elements(summed, f, axis=3)\n",
        "        denom = K.pow(self.k + averaged, self.beta)\n",
        "\n",
        "    return x / denom\n",
        "\n",
        "  def get_output_shape_for(self, input_shape):\n",
        "    return input_shape"
      ],
      "execution_count": null,
      "outputs": []
    },
    {
      "cell_type": "code",
      "metadata": {
        "id": "QaGQWzx42o1t"
      },
      "source": [
        "#Get a model\n",
        "def get_model(num_classes=5):\n",
        "    model = Sequential()\n",
        "\n",
        "    model.add(Conv2D(1, kernel_size=5,kernel_initializer=my_filter,input_shape=(256, 256, 1)))\n",
        "    model.add(Conv2D(64, (7, 7),strides=2,padding='same'))\n",
        "    model.add(Conv2D(64, (7, 7),strides=2,padding='same'))\n",
        "    model.add(Activation('relu'))\n",
        "\n",
        "    model.add(MaxPooling2D(pool_size=(3, 3),strides=2,padding=\"same\"))\n",
        "    model.add(LocalResponseNormalization())\n",
        "    # model.add(BatchNormalization())\n",
        "    #model.add(tf.nn.lrn(input=,depth_radius=4, bias=1, alpha=0.001/9, beta=0.75, name=None))\n",
        "    #model.add(tf.keras.layers.Lambda(tf.nn.local_response_normalization))\n",
        "    model.add(Conv2D(48, (5, 5),strides=1,padding=\"same\"))\n",
        "    model.add(Activation('relu'))\n",
        "\n",
        "    model.add(MaxPooling2D(pool_size=(3, 3),strides=2,padding=\"same\"))\n",
        "    #model.add(tf.keras.layers.Lambda(tf.nn.local_response_normalization))\n",
        "    #model.add(tf.nn.lrn(depth_radius=4, bias=1, alpha=0.001/9, beta=0.75, name=None))\n",
        "    # model.add(BatchNormalization())\n",
        "    model.add(LocalResponseNormalization())\n",
        "    model.add(Flatten())\n",
        "    model.add(Dense(units=4096))\n",
        "    model.add(Dropout(0.5))\n",
        "    model.add(Dense(4096))\n",
        "    model.add(Dropout(0.5))\n",
        "    model.add(Dense(num_classes))\n",
        "    model.add(Activation('softmax'))\n",
        "\n",
        "    model.compile(loss='categorical_crossentropy', optimizer='adam', metrics=['accuracy'])\n",
        "\n",
        "    return model"
      ],
      "execution_count": null,
      "outputs": []
    },
    {
      "cell_type": "code",
      "metadata": {
        "colab": {
          "base_uri": "https://localhost:8080/"
        },
        "id": "BhOLpHiD2ore",
        "outputId": "8a48503a-9157-4e03-fab0-0038a08a9179"
      },
      "source": [
        "model=get_model()"
      ],
      "execution_count": null,
      "outputs": [
        {
          "output_type": "stream",
          "text": [
            "(5, 5, 1, 1) (5, 5, 1, 1)\n"
          ],
          "name": "stdout"
        }
      ]
    },
    {
      "cell_type": "code",
      "metadata": {
        "colab": {
          "base_uri": "https://localhost:8080/"
        },
        "id": "OhobNwjt2oef",
        "outputId": "ff89a76b-9499-48f5-f371-e7410ab2d468"
      },
      "source": [
        "model.summary()"
      ],
      "execution_count": null,
      "outputs": [
        {
          "output_type": "stream",
          "text": [
            "Model: \"sequential\"\n",
            "_________________________________________________________________\n",
            "Layer (type)                 Output Shape              Param #   \n",
            "=================================================================\n",
            "conv2d (Conv2D)              (None, 252, 252, 1)       26        \n",
            "_________________________________________________________________\n",
            "conv2d_1 (Conv2D)            (None, 126, 126, 64)      3200      \n",
            "_________________________________________________________________\n",
            "conv2d_2 (Conv2D)            (None, 63, 63, 64)        200768    \n",
            "_________________________________________________________________\n",
            "activation (Activation)      (None, 63, 63, 64)        0         \n",
            "_________________________________________________________________\n",
            "max_pooling2d (MaxPooling2D) (None, 32, 32, 64)        0         \n",
            "_________________________________________________________________\n",
            "local_response_normalization (None, 32, 32, 64)        0         \n",
            "_________________________________________________________________\n",
            "conv2d_3 (Conv2D)            (None, 32, 32, 48)        76848     \n",
            "_________________________________________________________________\n",
            "activation_1 (Activation)    (None, 32, 32, 48)        0         \n",
            "_________________________________________________________________\n",
            "max_pooling2d_1 (MaxPooling2 (None, 16, 16, 48)        0         \n",
            "_________________________________________________________________\n",
            "local_response_normalization (None, 16, 16, 48)        0         \n",
            "_________________________________________________________________\n",
            "flatten (Flatten)            (None, 12288)             0         \n",
            "_________________________________________________________________\n",
            "dense (Dense)                (None, 4096)              50335744  \n",
            "_________________________________________________________________\n",
            "dropout (Dropout)            (None, 4096)              0         \n",
            "_________________________________________________________________\n",
            "dense_1 (Dense)              (None, 4096)              16781312  \n",
            "_________________________________________________________________\n",
            "dropout_1 (Dropout)          (None, 4096)              0         \n",
            "_________________________________________________________________\n",
            "dense_2 (Dense)              (None, 5)                 20485     \n",
            "_________________________________________________________________\n",
            "activation_2 (Activation)    (None, 5)                 0         \n",
            "=================================================================\n",
            "Total params: 67,418,383\n",
            "Trainable params: 67,418,383\n",
            "Non-trainable params: 0\n",
            "_________________________________________________________________\n"
          ],
          "name": "stdout"
        }
      ]
    },
    {
      "cell_type": "code",
      "metadata": {
        "colab": {
          "base_uri": "https://localhost:8080/"
        },
        "id": "05nUyKXf3MBb",
        "outputId": "d5e70760-91e5-48a6-8f8c-233b63be880e"
      },
      "source": [
        "#custom lrn layer 2\n",
        "model.fit(train_dataset,\n",
        "          steps_per_epoch=50,\n",
        "          epochs=50)"
      ],
      "execution_count": null,
      "outputs": [
        {
          "output_type": "stream",
          "text": [
            "Epoch 1/50\n",
            " 4/50 [=>............................] - ETA: 11:30 - loss: 8.8050 - accuracy: 0.1229"
          ],
          "name": "stdout"
        }
      ]
    },
    {
      "cell_type": "code",
      "metadata": {
        "id": "29-D3-jC3L5N"
      },
      "source": [
        "model.evaluate(test_dataset, batch_size=100)"
      ],
      "execution_count": null,
      "outputs": []
    },
    {
      "cell_type": "code",
      "metadata": {
        "id": "cbDnLy2qZgti"
      },
      "source": [
        "model2=get_model()"
      ],
      "execution_count": null,
      "outputs": []
    },
    {
      "cell_type": "code",
      "metadata": {
        "id": "v1N_LEfKZQ-t"
      },
      "source": [
        "model2.fit(train_dataset,\n",
        "          steps_per_epoch=50,\n",
        "          epochs=50)"
      ],
      "execution_count": null,
      "outputs": []
    },
    {
      "cell_type": "code",
      "metadata": {
        "id": "NvuKaZTiZQ6K"
      },
      "source": [
        ""
      ],
      "execution_count": null,
      "outputs": []
    },
    {
      "cell_type": "code",
      "metadata": {
        "id": "ONdj6X0QZQ3M"
      },
      "source": [
        ""
      ],
      "execution_count": null,
      "outputs": []
    },
    {
      "cell_type": "code",
      "metadata": {
        "id": "rLnPmjlycLPA"
      },
      "source": [
        "import tensorflow as tf\n",
        "tf.test.gpu_device_name()"
      ],
      "execution_count": null,
      "outputs": []
    },
    {
      "cell_type": "code",
      "metadata": {
        "id": "FxzvOluYgelS"
      },
      "source": [
        "# !ln -sf /opt/bin/nvidia-smi /usr/bin/nvidia-smi\n",
        "# !pip install gputil\n",
        "# !pip install psutil\n",
        "# !pip install humanize\n",
        "# import psutil\n",
        "# import humanize\n",
        "# import os\n",
        "# import GPUtil as GPU\n",
        "# GPUs = GPU.getGPUs()\n",
        "# # XXX: only one GPU on Colab and isn’t guaranteed\n",
        "# gpu = GPUs[0]\n",
        "# def printm():\n",
        "#  process = psutil.Process(os.getpid())\n",
        "#  print(\"Gen RAM Free: \" + humanize.naturalsize( psutil.virtual_memory().available ), \" | Proc size: \" + humanize.naturalsize( process.memory_info().rss))\n",
        "#  print(\"GPU RAM Free: {0:.0f}MB | Used: {1:.0f}MB | Util {2:3.0f}% | Total {3:.0f}MB\".format(gpu.memoryFree, gpu.memoryUsed, gpu.memoryUtil*100, gpu.memoryTotal))\n",
        "# printm() "
      ],
      "execution_count": null,
      "outputs": []
    },
    {
      "cell_type": "code",
      "metadata": {
        "id": "2Zpbquqogus1"
      },
      "source": [
        "# !kill -9 -1"
      ],
      "execution_count": null,
      "outputs": []
    },
    {
      "cell_type": "code",
      "metadata": {
        "id": "gkqBFqmkAt6j"
      },
      "source": [
        "# #Get a model\n",
        "# def get_model(num_classes=5):\n",
        "#     model = Sequential()\n",
        "\n",
        "#     model.add(Conv2D(1, kernel_size=5,kernel_initializer=my_filter,input_shape=(256, 256, 1)))\n",
        "#     #model.add(Conv2D(64, (7, 7),strides=2,padding='same'))\n",
        "#     model.add(Conv2D(64, (7, 7),strides=2,padding='same'))\n",
        "#     model.add(Activation('relu'))\n",
        "\n",
        "#     model.add(MaxPooling2D(pool_size=(3, 3),strides=2,padding=\"same\"))\n",
        "#     model.add(LocalResponseNormalization(5,0.0005,0.75,2))\n",
        "#     # model.add(BatchNormalization())\n",
        "#     #model.add(tf.nn.lrn(input=,depth_radius=4, bias=1, alpha=0.001/9, beta=0.75, name=None))\n",
        "#     #model.add(tf.keras.layers.Lambda(tf.nn.local_response_normalization))\n",
        "#     model.add(Conv2D(48, (5, 5),strides=1,padding=\"same\"))\n",
        "#     model.add(Activation('relu'))\n",
        "\n",
        "#     model.add(MaxPooling2D(pool_size=(3, 3),strides=2,padding=\"same\"))\n",
        "#     #model.add(tf.keras.layers.Lambda(tf.nn.local_response_normalization))\n",
        "#     #model.add(tf.nn.lrn(depth_radius=4, bias=1, alpha=0.001/9, beta=0.75, name=None))\n",
        "#     # model.add(BatchNormalization())\n",
        "#     model.add(LocalResponseNormalization(5,0.0005,0.75,2))\n",
        "#     model.add(Flatten())\n",
        "#     model.add(Dense(units=4096))\n",
        "#     model.add(Dropout(0.5))\n",
        "#     model.add(Dense(4096))\n",
        "#     model.add(Dropout(0.5))\n",
        "#     model.add(Dense(num_classes))\n",
        "#     model.add(Activation('softmax'))\n",
        "\n",
        "#     model.compile(loss='categorical_crossentropy', optimizer='adam', metrics=['accuracy'])\n",
        "\n",
        "#     return model"
      ],
      "execution_count": null,
      "outputs": []
    },
    {
      "cell_type": "code",
      "metadata": {
        "id": "yGmdTbDXAzj6"
      },
      "source": [
        "# model=get_model()"
      ],
      "execution_count": null,
      "outputs": []
    },
    {
      "cell_type": "code",
      "metadata": {
        "id": "8XbTAHopA0NN"
      },
      "source": [
        "# model.summary()"
      ],
      "execution_count": null,
      "outputs": []
    },
    {
      "cell_type": "code",
      "metadata": {
        "id": "-YWJQ_2tWdFA"
      },
      "source": [
        "# #Batch Size 100\n",
        "# model.fit(train_dataset,\n",
        "#           steps_per_epoch=10,\n",
        "#           epochs=50)"
      ],
      "execution_count": null,
      "outputs": []
    },
    {
      "cell_type": "code",
      "metadata": {
        "id": "ZMav_GVLjAWB"
      },
      "source": [
        "# model.save('gdrive/MyDrive/Colab Notebooks/model_1.h5',\n",
        "#     overwrite=True,\n",
        "#     include_optimizer=True,\n",
        "#     save_format=None,\n",
        "#     signatures=None,\n",
        "#     options=None,\n",
        "#     save_traces=True,\n",
        "# )"
      ],
      "execution_count": null,
      "outputs": []
    },
    {
      "cell_type": "code",
      "metadata": {
        "id": "VO9QEUZsBEo6"
      },
      "source": [
        "# #Batch Size 512\n",
        "# model.fit(train_dataset,\n",
        "#           steps_per_epoch=10,\n",
        "#           epochs=50)"
      ],
      "execution_count": null,
      "outputs": []
    },
    {
      "cell_type": "code",
      "metadata": {
        "id": "k_ggf-cMBPES"
      },
      "source": [
        "# model.summary()"
      ],
      "execution_count": null,
      "outputs": []
    },
    {
      "cell_type": "code",
      "metadata": {
        "id": "HWkQDEiKzpxM"
      },
      "source": [
        "# model.fit(train_dataset,\n",
        "#           steps_per_epoch=10,\n",
        "#           epochs=50)"
      ],
      "execution_count": null,
      "outputs": []
    },
    {
      "cell_type": "code",
      "metadata": {
        "id": "C_INDtXOzwWs"
      },
      "source": [
        "# #GPU\n",
        "# model.fit(train_dataset,\n",
        "#           steps_per_epoch=10,\n",
        "#           epochs=50)"
      ],
      "execution_count": null,
      "outputs": []
    },
    {
      "cell_type": "code",
      "metadata": {
        "id": "eRj4BXLJr1sZ"
      },
      "source": [
        "# #model_2.h5\n",
        "# model.fit(train_dataset,\n",
        "#           steps_per_epoch=50,\n",
        "#           epochs=50)"
      ],
      "execution_count": null,
      "outputs": []
    },
    {
      "cell_type": "code",
      "metadata": {
        "id": "fZxHu7upTKx7"
      },
      "source": [
        "# model.save('gdrive/MyDrive/Colab Notebooks/model_2.h5',\n",
        "#     overwrite=True,\n",
        "#     include_optimizer=True,\n",
        "#     save_format=None,\n",
        "#     signatures=None,\n",
        "#     options=None,\n",
        "#     save_traces=True,\n",
        "# )"
      ],
      "execution_count": null,
      "outputs": []
    },
    {
      "cell_type": "code",
      "metadata": {
        "id": "Fj3uGas1V4m_"
      },
      "source": [
        "# os.listdir('gdrive/MyDrive/Colab Notebooks/')"
      ],
      "execution_count": null,
      "outputs": []
    },
    {
      "cell_type": "code",
      "metadata": {
        "id": "2kQg1zVyWR5s"
      },
      "source": [
        "# model.fit(train_dataset,\n",
        "#           steps_per_epoch=50,\n",
        "#           epochs=200)"
      ],
      "execution_count": null,
      "outputs": []
    },
    {
      "cell_type": "code",
      "metadata": {
        "id": "Q45bIi9UXF_A"
      },
      "source": [
        "# #custom lrn layer 1\n",
        "# model.fit(train_dataset,\n",
        "#           steps_per_epoch=50,\n",
        "#           epochs=200)"
      ],
      "execution_count": null,
      "outputs": []
    },
    {
      "cell_type": "code",
      "metadata": {
        "id": "cbMuEn5epepj"
      },
      "source": [
        "# model.evaluate(test_dataset,batch_size=100)"
      ],
      "execution_count": null,
      "outputs": []
    },
    {
      "cell_type": "code",
      "metadata": {
        "id": "xHqjT5THxafJ"
      },
      "source": [
        "# from keras import backend as K\n",
        "# from keras.engine.topology import Layer, InputSpec\n",
        "\n",
        "# class LocalResponseNormalization(Layer):\n",
        "\n",
        "#   def __init__(self, n=5, alpha=0.0005, beta=0.75, k=2, **kwargs):\n",
        "\n",
        "#     self.n = n\n",
        "#     self.alpha = alpha\n",
        "#     self.beta = beta\n",
        "#     self.k = k\n",
        "#     super(LocalResponseNormalization, self).__init__(**kwargs)\n",
        "\n",
        "#   def build(self, input_shape):\n",
        "\n",
        "#     self.shape = input_shape\n",
        "#     super(LocalResponseNormalization, self).build(input_shape)\n",
        "\n",
        "#   def call(self, x, mask=None):\n",
        "#     if K.image_data_format == \"th\":\n",
        "#       _, f, r, c = self.shape\n",
        "#     else:\n",
        "#       _, r, c, f = self.shape\n",
        "#       squared = K.square(x)\n",
        "#       pooled = K.pool2d(squared, (5, 5), strides=(1, 1),\n",
        "#       padding=\"same\", pool_mode=\"avg\")\n",
        "#       if K.image_data_format == \"th\":\n",
        "#         summed = K.sum(pooled, axis=1, keepdims=True)\n",
        "#         averaged = self.alpha * K.repeat_elements(summed, f, axis=1)\n",
        "#       else:\n",
        "#         summed = K.sum(pooled, axis=3, keepdims=True)\n",
        "#         averaged = self.alpha * K.repeat_elements(summed, f, axis=3)\n",
        "#         denom = K.pow(self.k + averaged, self.beta)\n",
        "\n",
        "#     return x / denom\n",
        "\n",
        "#   def get_output_shape_for(self, input_shape):\n",
        "#     return input_shape"
      ],
      "execution_count": null,
      "outputs": []
    },
    {
      "cell_type": "code",
      "metadata": {
        "id": "afTkXrOI_4cJ"
      },
      "source": [
        "# #Get a model\n",
        "# def get_model(num_classes=5):\n",
        "#     model = Sequential()\n",
        "\n",
        "#     model.add(Conv2D(1, kernel_size=5,kernel_initializer=my_filter,input_shape=(256, 256, 1)))\n",
        "#     #model.add(Conv2D(64, (7, 7),strides=2,padding='same'))\n",
        "#     model.add(Conv2D(64, (7, 7),strides=2,padding='same'))\n",
        "#     model.add(Activation('relu'))\n",
        "\n",
        "#     model.add(MaxPooling2D(pool_size=(3, 3),strides=2,padding=\"same\"))\n",
        "#     model.add(LocalResponseNormalization())\n",
        "#     # model.add(BatchNormalization())\n",
        "#     #model.add(tf.nn.lrn(input=,depth_radius=4, bias=1, alpha=0.001/9, beta=0.75, name=None))\n",
        "#     #model.add(tf.keras.layers.Lambda(tf.nn.local_response_normalization))\n",
        "#     model.add(Conv2D(48, (5, 5),strides=1,padding=\"same\"))\n",
        "#     model.add(Activation('relu'))\n",
        "\n",
        "#     model.add(MaxPooling2D(pool_size=(3, 3),strides=2,padding=\"same\"))\n",
        "#     #model.add(tf.keras.layers.Lambda(tf.nn.local_response_normalization))\n",
        "#     #model.add(tf.nn.lrn(depth_radius=4, bias=1, alpha=0.001/9, beta=0.75, name=None))\n",
        "#     # model.add(BatchNormalization())\n",
        "#     model.add(LocalResponseNormalization())\n",
        "#     model.add(Flatten())\n",
        "#     model.add(Dense(units=4096))\n",
        "#     model.add(Dropout(0.5))\n",
        "#     model.add(Dense(4096))\n",
        "#     model.add(Dropout(0.5))\n",
        "#     model.add(Dense(num_classes))\n",
        "#     model.add(Activation('softmax'))\n",
        "\n",
        "#     model.compile(loss='categorical_crossentropy', optimizer='adam', metrics=['accuracy'])\n",
        "\n",
        "#     return model"
      ],
      "execution_count": null,
      "outputs": []
    },
    {
      "cell_type": "code",
      "metadata": {
        "id": "SJix1Dyq_9Zp"
      },
      "source": [
        "# model=get_model()"
      ],
      "execution_count": null,
      "outputs": []
    },
    {
      "cell_type": "code",
      "metadata": {
        "id": "uupXrcSQyQwJ"
      },
      "source": [
        "# model_1=tf.keras.models.Sequential([\n",
        "#     tf.keras.layers.Conv2D(1,(5,5),kernel_initializer=my_filter),\n",
        "#     tf.keras.layers.Conv2D(64,(7,7),strides=2,activation='relu'),\n",
        "#     tf.keras.layers.MaxPooling2D(3,strides=2,padding='same')\n",
        "#     LocalResponseNormalization,\n",
        "#     tf.keras.layers.Conv2D(48,(5,5),strides=2,padding='same',activation='relu'),\n",
        "#     tf.keras.layers.MaxPooling2D(3,strides=2,padding='same')\n",
        "#     LocalResponseNormalization,\n",
        "#     tf.keras.layers.Flatten(),\n",
        "#     tf.keras.layers.Dense(4096),\n",
        "#     tf.keras.layers.Dropout(0.5),\n",
        "#     tf.keras.layers.Dense(4096),\n",
        "#     tf.keras.layers.Dropout(0.5),\n",
        "#     tf.keras.layers.Dense(10,activation='softmax')\n",
        "    \n",
        "# ])\n",
        "\n",
        "# model_1.compile(loss='categorical_crossentropy',\n",
        "#               optimizer='adam',\n",
        "#               metrics=['accuracy']\n",
        "# )\n"
      ],
      "execution_count": null,
      "outputs": []
    },
    {
      "cell_type": "code",
      "metadata": {
        "id": "XOjtzmX13fFf"
      },
      "source": [
        "# #custom lrn layer 2\n",
        "# model.fit(train_dataset,\n",
        "#           steps_per_epoch=50,\n",
        "#           epochs=50)"
      ],
      "execution_count": null,
      "outputs": []
    },
    {
      "cell_type": "code",
      "metadata": {
        "id": "Izew8QE9N350"
      },
      "source": [
        "# model.evaluate(test_dataset,batch_size=100)"
      ],
      "execution_count": null,
      "outputs": []
    },
    {
      "cell_type": "code",
      "metadata": {
        "id": "_bxhpqnLmzz7"
      },
      "source": [
        "# model.save('gdrive/MyDrive/Colab Notebooks/model_best.h5',\n",
        "    # overwrite=True,\n",
        "    # include_optimizer=True,\n",
        "    # save_format=None,\n",
        "    # signatures=None,\n",
        "    # options=None,\n",
        "    # #save_traces=True,\n",
        ")"
      ],
      "execution_count": null,
      "outputs": []
    },
    {
      "cell_type": "code",
      "metadata": {
        "id": "DKEEvrIznz-a"
      },
      "source": [
        ""
      ],
      "execution_count": null,
      "outputs": []
    }
  ]
}